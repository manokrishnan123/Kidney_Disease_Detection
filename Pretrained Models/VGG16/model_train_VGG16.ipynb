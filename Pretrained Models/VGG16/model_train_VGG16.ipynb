{
 "cells": [
  {
   "cell_type": "code",
   "execution_count": 1,
   "metadata": {},
   "outputs": [],
   "source": [
    "import os"
   ]
  },
  {
   "cell_type": "code",
   "execution_count": 2,
   "metadata": {},
   "outputs": [
    {
     "data": {
      "text/plain": [
       "'c:\\\\Users\\\\manob\\\\Documents\\\\Kidney_Disease_Detection\\\\Kidney_Disease_Detection\\\\Pretrained Models\\\\VGG16'"
      ]
     },
     "execution_count": 2,
     "metadata": {},
     "output_type": "execute_result"
    }
   ],
   "source": [
    "%pwd"
   ]
  },
  {
   "cell_type": "code",
   "execution_count": 3,
   "metadata": {},
   "outputs": [],
   "source": [
    "os.chdir(\"../\")\n",
    "os.chdir(\"../\")"
   ]
  },
  {
   "cell_type": "code",
   "execution_count": 4,
   "metadata": {},
   "outputs": [
    {
     "data": {
      "text/plain": [
       "'c:\\\\Users\\\\manob\\\\Documents\\\\Kidney_Disease_Detection\\\\Kidney_Disease_Detection'"
      ]
     },
     "execution_count": 4,
     "metadata": {},
     "output_type": "execute_result"
    }
   ],
   "source": [
    "%pwd"
   ]
  },
  {
   "cell_type": "code",
   "execution_count": 5,
   "metadata": {},
   "outputs": [
    {
     "name": "stderr",
     "output_type": "stream",
     "text": [
      "c:\\Users\\manob\\Documents\\Kidney_Disease_Detection\\Kidney_Disease_Detection\\.conda\\Lib\\site-packages\\numpy\\_distributor_init.py:30: UserWarning: loaded more than 1 DLL from .libs:\n",
      "c:\\Users\\manob\\Documents\\Kidney_Disease_Detection\\Kidney_Disease_Detection\\.conda\\Lib\\site-packages\\numpy\\.libs\\libopenblas.FB5AE2TYXYH2IJRDKGDGQ3XBKLKTF43H.gfortran-win_amd64.dll\n",
      "c:\\Users\\manob\\Documents\\Kidney_Disease_Detection\\Kidney_Disease_Detection\\.conda\\Lib\\site-packages\\numpy\\.libs\\libopenblas64__v0.3.21-gcc_10_3_0.dll\n",
      "  warnings.warn(\"loaded more than 1 DLL from .libs:\"\n"
     ]
    }
   ],
   "source": [
    "import tensorflow as tf\n",
    "from tensorflow.keras.preprocessing.image import ImageDataGenerator\n",
    "from tensorflow.keras.models import load_model\n",
    "from tensorflow.keras.callbacks import ModelCheckpoint, EarlyStopping\n",
    "import matplotlib.pyplot as plt"
   ]
  },
  {
   "cell_type": "code",
   "execution_count": 7,
   "metadata": {},
   "outputs": [],
   "source": [
    "# Config\n",
    "BASE_DIR = \"artifacts/data_ingestion/Combined_Training_Data\"\n",
    "MODEL_PATH = \"Pretrained Models/VGG16/vgg16_model.h5\"\n",
    "SAVE_BEST_MODEL_PATH = \"Pretrained Models/VGG16/vgg16_model_updated.h5\"\n",
    "\n",
    "IMAGE_SIZE = (256, 256)\n",
    "BATCH_SIZE = 32\n",
    "EPOCHS = 40\n"
   ]
  },
  {
   "cell_type": "code",
   "execution_count": 8,
   "metadata": {},
   "outputs": [
    {
     "name": "stdout",
     "output_type": "stream",
     "text": [
      "Found 31058 images belonging to 2 classes.\n",
      "Found 7763 images belonging to 2 classes.\n"
     ]
    }
   ],
   "source": [
    "# Data generators\n",
    "datagen = ImageDataGenerator(\n",
    "    rescale=1./255,\n",
    "    validation_split=0.2,\n",
    "    rotation_range=20,\n",
    "    zoom_range=0.2,\n",
    "    horizontal_flip=True\n",
    ")\n",
    "\n",
    "train_generator = datagen.flow_from_directory(\n",
    "    BASE_DIR,\n",
    "    target_size=IMAGE_SIZE,\n",
    "    batch_size=BATCH_SIZE,\n",
    "    class_mode='binary',\n",
    "    subset='training',\n",
    "    shuffle=True\n",
    ")\n",
    "\n",
    "val_generator = datagen.flow_from_directory(\n",
    "    BASE_DIR,\n",
    "    target_size=IMAGE_SIZE,\n",
    "    batch_size=BATCH_SIZE,\n",
    "    class_mode='binary',\n",
    "    subset='validation',\n",
    "    shuffle=True\n",
    ")\n"
   ]
  },
  {
   "cell_type": "code",
   "execution_count": 9,
   "metadata": {},
   "outputs": [],
   "source": [
    "# Load model\n",
    "model = load_model(MODEL_PATH)\n",
    "\n",
    "# Callbacks\n",
    "checkpoint_cb = ModelCheckpoint(SAVE_BEST_MODEL_PATH, save_best_only=True, monitor='val_loss', mode='min')\n",
    "earlystop_cb = EarlyStopping(monitor='val_loss', patience=3, restore_best_weights=True)\n"
   ]
  },
  {
   "cell_type": "code",
   "execution_count": 10,
   "metadata": {},
   "outputs": [
    {
     "name": "stdout",
     "output_type": "stream",
     "text": [
      "Epoch 1/40\n",
      "971/971 [==============================] - 3664s 4s/step - loss: 0.6966 - accuracy: 0.5492 - val_loss: 0.7471 - val_accuracy: 0.4233\n",
      "Epoch 2/40\n",
      "971/971 [==============================] - 3639s 4s/step - loss: 0.6643 - accuracy: 0.5993 - val_loss: 0.7408 - val_accuracy: 0.5129\n",
      "Epoch 3/40\n",
      "971/971 [==============================] - 3659s 4s/step - loss: 0.6467 - accuracy: 0.6287 - val_loss: 0.7216 - val_accuracy: 0.5452\n",
      "Epoch 4/40\n",
      "971/971 [==============================] - 3639s 4s/step - loss: 0.6361 - accuracy: 0.6411 - val_loss: 0.7253 - val_accuracy: 0.5576\n",
      "Epoch 5/40\n",
      "971/971 [==============================] - 3670s 4s/step - loss: 0.6288 - accuracy: 0.6495 - val_loss: 0.7140 - val_accuracy: 0.5637\n",
      "Epoch 6/40\n",
      "971/971 [==============================] - 3630s 4s/step - loss: 0.6228 - accuracy: 0.6567 - val_loss: 0.7273 - val_accuracy: 0.5659\n",
      "Epoch 7/40\n",
      "971/971 [==============================] - 3624s 4s/step - loss: 0.6163 - accuracy: 0.6621 - val_loss: 0.7214 - val_accuracy: 0.5813\n",
      "Epoch 8/40\n",
      "971/971 [==============================] - 3637s 4s/step - loss: 0.6121 - accuracy: 0.6657 - val_loss: 0.7061 - val_accuracy: 0.5719\n",
      "Epoch 9/40\n",
      "971/971 [==============================] - 3630s 4s/step - loss: 0.6082 - accuracy: 0.6723 - val_loss: 0.7150 - val_accuracy: 0.5915\n",
      "Epoch 10/40\n",
      "971/971 [==============================] - 3634s 4s/step - loss: 0.6075 - accuracy: 0.6694 - val_loss: 0.7219 - val_accuracy: 0.5878\n",
      "Epoch 11/40\n",
      "971/971 [==============================] - 3647s 4s/step - loss: 0.6039 - accuracy: 0.6725 - val_loss: 0.7221 - val_accuracy: 0.5821\n"
     ]
    }
   ],
   "source": [
    "# Train\n",
    "history = model.fit(\n",
    "    train_generator,\n",
    "    validation_data=val_generator,\n",
    "    epochs=EPOCHS,\n",
    "    callbacks=[checkpoint_cb, earlystop_cb]\n",
    ")\n"
   ]
  },
  {
   "cell_type": "code",
   "execution_count": null,
   "metadata": {},
   "outputs": [],
   "source": [
    "# Plot\n",
    "plt.plot(history.history['accuracy'], label='Train Acc')\n",
    "plt.plot(history.history['val_accuracy'], label='Val Acc')\n",
    "plt.legend()\n",
    "plt.title('Accuracy')\n",
    "plt.show()\n",
    "\n",
    "plt.plot(history.history['loss'], label='Train Loss')\n",
    "plt.plot(history.history['val_loss'], label='Val Loss')\n",
    "plt.legend()\n",
    "plt.title('Loss')\n",
    "plt.show()\n"
   ]
  }
 ],
 "metadata": {
  "kernelspec": {
   "display_name": "Python 3",
   "language": "python",
   "name": "python3"
  },
  "language_info": {
   "codemirror_mode": {
    "name": "ipython",
    "version": 3
   },
   "file_extension": ".py",
   "mimetype": "text/x-python",
   "name": "python",
   "nbconvert_exporter": "python",
   "pygments_lexer": "ipython3",
   "version": "3.11.11"
  }
 },
 "nbformat": 4,
 "nbformat_minor": 2
}
