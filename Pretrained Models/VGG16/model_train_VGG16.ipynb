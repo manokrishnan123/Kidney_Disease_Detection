{
 "cells": [
  {
   "cell_type": "code",
   "execution_count": 1,
   "metadata": {},
   "outputs": [],
   "source": [
    "import os"
   ]
  },
  {
   "cell_type": "code",
   "execution_count": 2,
   "metadata": {},
   "outputs": [
    {
     "data": {
      "text/plain": [
       "'c:\\\\Users\\\\manob\\\\Documents\\\\Kidney_Disease_Detection\\\\Kidney_Disease_Detection\\\\Pretrained Models\\\\VGG16'"
      ]
     },
     "execution_count": 2,
     "metadata": {},
     "output_type": "execute_result"
    }
   ],
   "source": [
    "%pwd"
   ]
  },
  {
   "cell_type": "code",
   "execution_count": 3,
   "metadata": {},
   "outputs": [],
   "source": [
    "os.chdir(\"../\")\n",
    "os.chdir(\"../\")"
   ]
  },
  {
   "cell_type": "code",
   "execution_count": 4,
   "metadata": {},
   "outputs": [
    {
     "data": {
      "text/plain": [
       "'c:\\\\Users\\\\manob\\\\Documents\\\\Kidney_Disease_Detection\\\\Kidney_Disease_Detection'"
      ]
     },
     "execution_count": 4,
     "metadata": {},
     "output_type": "execute_result"
    }
   ],
   "source": [
    "%pwd"
   ]
  },
  {
   "cell_type": "code",
   "execution_count": 5,
   "metadata": {},
   "outputs": [
    {
     "name": "stderr",
     "output_type": "stream",
     "text": [
      "c:\\Users\\manob\\Documents\\Kidney_Disease_Detection\\Kidney_Disease_Detection\\.conda\\Lib\\site-packages\\numpy\\_distributor_init.py:30: UserWarning: loaded more than 1 DLL from .libs:\n",
      "c:\\Users\\manob\\Documents\\Kidney_Disease_Detection\\Kidney_Disease_Detection\\.conda\\Lib\\site-packages\\numpy\\.libs\\libopenblas.FB5AE2TYXYH2IJRDKGDGQ3XBKLKTF43H.gfortran-win_amd64.dll\n",
      "c:\\Users\\manob\\Documents\\Kidney_Disease_Detection\\Kidney_Disease_Detection\\.conda\\Lib\\site-packages\\numpy\\.libs\\libopenblas64__v0.3.21-gcc_10_3_0.dll\n",
      "  warnings.warn(\"loaded more than 1 DLL from .libs:\"\n"
     ]
    }
   ],
   "source": [
    "import tensorflow as tf\n",
    "from tensorflow.keras.preprocessing.image import ImageDataGenerator\n",
    "from tensorflow.keras.models import load_model\n",
    "from tensorflow.keras.callbacks import ModelCheckpoint, EarlyStopping\n",
    "import matplotlib.pyplot as plt"
   ]
  },
  {
   "cell_type": "code",
   "execution_count": 6,
   "metadata": {},
   "outputs": [
    {
     "name": "stdout",
     "output_type": "stream",
     "text": [
      "Stone images: 18194 (46.87%)\n",
      "Non-Stone images: 20627 (53.13%)\n",
      "Class weights: {0: 0.9410239007126582, 1: 1.066862701989667}\n"
     ]
    }
   ],
   "source": [
    "# Configuration for Kidney Stone Detection with Improved Hyperparameters\n",
    "BASE_DIR = \"artifacts/data_ingestion/Combined_Training_Data\"  # Directory containing Stone and Non-Stone folders\n",
    "MODEL_PATH = \"Pretrained Models/VGG16/vgg16_kidney_stone_model.h5\"  # Path to the model we just created\n",
    "SAVE_BEST_MODEL_PATH = \"Pretrained Models/VGG16/vgg16_kidney_stone_model_trained.h5\"  # Path to save the trained model\n",
    "\n",
    "# Improved hyperparameters\n",
    "IMAGE_SIZE = (256, 256)  # Input size for the model (height, width)\n",
    "BATCH_SIZE = 16  # Smaller batch size for better generalization\n",
    "INITIAL_LEARNING_RATE = 5e-5  # Lower initial learning rate for fine-tuning\n",
    "EPOCHS = 50  # More epochs for fine-tuning\n",
    "\n",
    "# Create a directory to save training plots\n",
    "PLOTS_DIR = \"Pretrained Models/VGG16/training_plots\"\n",
    "os.makedirs(PLOTS_DIR, exist_ok=True)\n",
    "\n",
    "# Check class balance to determine class weights\n",
    "stone_dir = os.path.join(BASE_DIR, 'Stone')\n",
    "non_stone_dir = os.path.join(BASE_DIR, 'Non-Stone')\n",
    "stone_count = len(os.listdir(stone_dir))\n",
    "non_stone_count = len(os.listdir(non_stone_dir))\n",
    "total_count = stone_count + non_stone_count\n",
    "\n",
    "print(f\"Stone images: {stone_count} ({stone_count/total_count:.2%})\")\n",
    "print(f\"Non-Stone images: {non_stone_count} ({non_stone_count/total_count:.2%})\")\n",
    "\n",
    "# Calculate class weights to handle imbalance\n",
    "weight_for_0 = (1 / non_stone_count) * (total_count / 2.0)  # For Non-Stone class\n",
    "weight_for_1 = (1 / stone_count) * (total_count / 2.0)  # For Stone class\n",
    "\n",
    "class_weight = {0: weight_for_0, 1: weight_for_1}\n",
    "print(f\"Class weights: {class_weight}\")"
   ]
  },
  {
   "cell_type": "code",
   "execution_count": 7,
   "metadata": {},
   "outputs": [
    {
     "name": "stdout",
     "output_type": "stream",
     "text": [
      "Found 31058 images belonging to 2 classes.\n",
      "Found 7763 images belonging to 2 classes.\n",
      "Class indices: {'Non-Stone': 0, 'Stone': 1}\n",
      "Found 31058 training samples in 2 classes\n",
      "Found 7763 validation samples\n"
     ]
    }
   ],
   "source": [
    "# Enhanced data generators with more aggressive augmentation for kidney stone CT images\n",
    "datagen = ImageDataGenerator(\n",
    "    rescale=1./255,  # Normalize pixel values\n",
    "    validation_split=0.2,  # 20% of data for validation\n",
    "    rotation_range=20,  # Rotate images more\n",
    "    zoom_range=0.25,  # More zoom variation\n",
    "    horizontal_flip=True,  # Flip horizontally\n",
    "    vertical_flip=True,  # Also flip vertically for medical images\n",
    "    width_shift_range=0.15,  # More horizontal shift\n",
    "    height_shift_range=0.15,  # More vertical shift\n",
    "    brightness_range=[0.8, 1.2],  # More brightness variation\n",
    "    shear_range=0.1,  # Add shear transformation\n",
    "    channel_shift_range=0.1,  # Slight color variations\n",
    "    fill_mode='nearest'  # Fill in missing pixels\n",
    ")\n",
    "\n",
    "# Print class indices to understand label mapping\n",
    "train_generator = datagen.flow_from_directory(\n",
    "    BASE_DIR,\n",
    "    target_size=IMAGE_SIZE,\n",
    "    batch_size=BATCH_SIZE,\n",
    "    class_mode='binary',  # Binary classification: stone vs non-stone\n",
    "    subset='training',\n",
    "    shuffle=True\n",
    ")\n",
    "\n",
    "val_generator = datagen.flow_from_directory(\n",
    "    BASE_DIR,\n",
    "    target_size=IMAGE_SIZE,\n",
    "    batch_size=BATCH_SIZE,\n",
    "    class_mode='binary',\n",
    "    subset='validation',\n",
    "    shuffle=True\n",
    ")\n",
    "\n",
    "# Print class mapping information\n",
    "print(f\"Class indices: {train_generator.class_indices}\")\n",
    "print(f\"Found {train_generator.samples} training samples in {len(train_generator.class_indices)} classes\")\n",
    "print(f\"Found {val_generator.samples} validation samples\")"
   ]
  },
  {
   "cell_type": "code",
   "execution_count": 8,
   "metadata": {},
   "outputs": [
    {
     "name": "stdout",
     "output_type": "stream",
     "text": [
      "Model: \"model\"\n",
      "_________________________________________________________________\n",
      " Layer (type)                Output Shape              Param #   \n",
      "=================================================================\n",
      " input_1 (InputLayer)        [(None, 256, 256, 3)]     0         \n",
      "                                                                 \n",
      " block1_conv1 (Conv2D)       (None, 256, 256, 64)      1792      \n",
      "                                                                 \n",
      " block1_conv2 (Conv2D)       (None, 256, 256, 64)      36928     \n",
      "                                                                 \n",
      " block1_pool (MaxPooling2D)  (None, 128, 128, 64)      0         \n",
      "                                                                 \n",
      " block2_conv1 (Conv2D)       (None, 128, 128, 128)     73856     \n",
      "                                                                 \n",
      " block2_conv2 (Conv2D)       (None, 128, 128, 128)     147584    \n",
      "                                                                 \n",
      " block2_pool (MaxPooling2D)  (None, 64, 64, 128)       0         \n",
      "                                                                 \n",
      " block3_conv1 (Conv2D)       (None, 64, 64, 256)       295168    \n",
      "                                                                 \n",
      " block3_conv2 (Conv2D)       (None, 64, 64, 256)       590080    \n",
      "                                                                 \n",
      " block3_conv3 (Conv2D)       (None, 64, 64, 256)       590080    \n",
      "                                                                 \n",
      " block3_pool (MaxPooling2D)  (None, 32, 32, 256)       0         \n",
      "                                                                 \n",
      " block4_conv1 (Conv2D)       (None, 32, 32, 512)       1180160   \n",
      "                                                                 \n",
      " block4_conv2 (Conv2D)       (None, 32, 32, 512)       2359808   \n",
      "                                                                 \n",
      " block4_conv3 (Conv2D)       (None, 32, 32, 512)       2359808   \n",
      "                                                                 \n",
      " block4_pool (MaxPooling2D)  (None, 16, 16, 512)       0         \n",
      "                                                                 \n",
      " block5_conv1 (Conv2D)       (None, 16, 16, 512)       2359808   \n",
      "                                                                 \n",
      " block5_conv2 (Conv2D)       (None, 16, 16, 512)       2359808   \n",
      "                                                                 \n",
      " block5_conv3 (Conv2D)       (None, 16, 16, 512)       2359808   \n",
      "                                                                 \n",
      " block5_pool (MaxPooling2D)  (None, 8, 8, 512)         0         \n",
      "                                                                 \n",
      " global_average_pooling2d (G  (None, 512)              0         \n",
      " lobalAveragePooling2D)                                          \n",
      "                                                                 \n",
      " dropout (Dropout)           (None, 512)               0         \n",
      "                                                                 \n",
      " dense (Dense)               (None, 256)               131328    \n",
      "                                                                 \n",
      " dropout_1 (Dropout)         (None, 256)               0         \n",
      "                                                                 \n",
      " dense_1 (Dense)             (None, 128)               32896     \n",
      "                                                                 \n",
      " dropout_2 (Dropout)         (None, 128)               0         \n",
      "                                                                 \n",
      " dense_2 (Dense)             (None, 1)                 129       \n",
      "                                                                 \n",
      "=================================================================\n",
      "Total params: 14,879,041\n",
      "Trainable params: 7,243,777\n",
      "Non-trainable params: 7,635,264\n",
      "_________________________________________________________________\n"
     ]
    }
   ],
   "source": [
    "# Load the kidney stone detection model\n",
    "model = load_model(MODEL_PATH)\n",
    "\n",
    "# Recompile with improved learning rate and metrics\n",
    "model.compile(\n",
    "    optimizer=tf.keras.optimizers.Adam(learning_rate=INITIAL_LEARNING_RATE),\n",
    "    loss='binary_crossentropy',\n",
    "    metrics=['accuracy', tf.keras.metrics.AUC(), tf.keras.metrics.Precision(), tf.keras.metrics.Recall()]\n",
    ")\n",
    "\n",
    "# Enhanced callbacks for better training\n",
    "# 1. Model checkpoint - save the best model\n",
    "checkpoint_cb = ModelCheckpoint(\n",
    "    SAVE_BEST_MODEL_PATH, \n",
    "    save_best_only=True, \n",
    "    monitor='val_auc', \n",
    "    mode='max',  # We want to maximize AUC\n",
    "    verbose=1\n",
    ")\n",
    "\n",
    "# 2. Early stopping - prevent overfitting\n",
    "earlystop_cb = EarlyStopping(\n",
    "    monitor='val_auc', \n",
    "    patience=8,  # More patience for fine-tuning\n",
    "    restore_best_weights=True, \n",
    "    mode='max',  # We want to maximize AUC\n",
    "    verbose=1\n",
    ")\n",
    "\n",
    "# 3. Learning rate reduction on plateau\n",
    "# This is more reliable than the cosine decay for this application\n",
    "reduce_lr_cb = tf.keras.callbacks.ReduceLROnPlateau(\n",
    "    monitor='val_loss',\n",
    "    factor=0.5,  # Reduce learning rate by half when plateau is detected\n",
    "    patience=3,  # Wait for 3 epochs before reducing\n",
    "    min_lr=1e-6,  # Minimum learning rate\n",
    "    verbose=1  # Print when learning rate is reduced\n",
    ")\n",
    "\n",
    "# 4. TensorBoard callback for better visualization\n",
    "tensorboard_cb = tf.keras.callbacks.TensorBoard(\n",
    "    log_dir=f\"{PLOTS_DIR}/logs\",\n",
    "    histogram_freq=1,\n",
    "    write_graph=True,\n",
    "    update_freq='epoch'\n",
    ")\n",
    "\n",
    "# Display model summary\n",
    "model.summary()"
   ]
  },
  {
   "cell_type": "code",
   "execution_count": 9,
   "metadata": {},
   "outputs": [
    {
     "name": "stdout",
     "output_type": "stream",
     "text": [
      "Epoch 1/50\n",
      "1942/1942 [==============================] - ETA: 0s - loss: 0.5028 - accuracy: 0.7191 - auc: 0.8172 - precision: 0.6995 - recall: 0.7025\n",
      "Epoch 1: val_auc improved from -inf to 0.93362, saving model to Pretrained Models/VGG16\\vgg16_kidney_stone_model_trained.h5\n",
      "1942/1942 [==============================] - 4513s 2s/step - loss: 0.5028 - accuracy: 0.7191 - auc: 0.8172 - precision: 0.6995 - recall: 0.7025 - val_loss: 0.4264 - val_accuracy: 0.7732 - val_auc: 0.9336 - val_precision: 0.6980 - val_recall: 0.9093 - lr: 5.0000e-05\n",
      "Epoch 2/50\n",
      "1942/1942 [==============================] - ETA: 0s - loss: 0.2099 - accuracy: 0.9203 - auc: 0.9708 - precision: 0.9278 - recall: 0.9000\n",
      "Epoch 2: val_auc improved from 0.93362 to 0.95241, saving model to Pretrained Models/VGG16\\vgg16_kidney_stone_model_trained.h5\n",
      "1942/1942 [==============================] - 6377s 3s/step - loss: 0.2099 - accuracy: 0.9203 - auc: 0.9708 - precision: 0.9278 - recall: 0.9000 - val_loss: 0.4050 - val_accuracy: 0.7817 - val_auc: 0.9524 - val_precision: 0.7007 - val_recall: 0.9324 - lr: 5.0000e-05\n",
      "Epoch 3/50\n",
      "1942/1942 [==============================] - ETA: 0s - loss: 0.1594 - accuracy: 0.9400 - auc: 0.9829 - precision: 0.9443 - recall: 0.9266\n",
      "Epoch 3: val_auc did not improve from 0.95241\n",
      "1942/1942 [==============================] - 4513s 2s/step - loss: 0.1594 - accuracy: 0.9400 - auc: 0.9829 - precision: 0.9443 - recall: 0.9266 - val_loss: 0.4667 - val_accuracy: 0.7905 - val_auc: 0.9497 - val_precision: 0.7067 - val_recall: 0.9453 - lr: 5.0000e-05\n",
      "Epoch 4/50\n",
      "1942/1942 [==============================] - ETA: 0s - loss: 0.1345 - accuracy: 0.9498 - auc: 0.9876 - precision: 0.9521 - recall: 0.9403\n",
      "Epoch 4: val_auc improved from 0.95241 to 0.96987, saving model to Pretrained Models/VGG16\\vgg16_kidney_stone_model_trained.h5\n",
      "1942/1942 [==============================] - 4493s 2s/step - loss: 0.1345 - accuracy: 0.9498 - auc: 0.9876 - precision: 0.9521 - recall: 0.9403 - val_loss: 0.3508 - val_accuracy: 0.8218 - val_auc: 0.9699 - val_precision: 0.7383 - val_recall: 0.9601 - lr: 5.0000e-05\n",
      "Epoch 5/50\n",
      "1942/1942 [==============================] - ETA: 0s - loss: 0.1190 - accuracy: 0.9542 - auc: 0.9906 - precision: 0.9550 - recall: 0.9470\n",
      "Epoch 5: val_auc did not improve from 0.96987\n",
      "1942/1942 [==============================] - 4499s 2s/step - loss: 0.1190 - accuracy: 0.9542 - auc: 0.9906 - precision: 0.9550 - recall: 0.9470 - val_loss: 0.5770 - val_accuracy: 0.7884 - val_auc: 0.9567 - val_precision: 0.6953 - val_recall: 0.9761 - lr: 5.0000e-05\n",
      "Epoch 6/50\n",
      "1942/1942 [==============================] - ETA: 0s - loss: 0.1070 - accuracy: 0.9585 - auc: 0.9921 - precision: 0.9585 - recall: 0.9527\n",
      "Epoch 6: val_auc improved from 0.96987 to 0.97017, saving model to Pretrained Models/VGG16\\vgg16_kidney_stone_model_trained.h5\n",
      "1942/1942 [==============================] - 4488s 2s/step - loss: 0.1070 - accuracy: 0.9585 - auc: 0.9921 - precision: 0.9585 - recall: 0.9527 - val_loss: 0.3594 - val_accuracy: 0.8255 - val_auc: 0.9702 - val_precision: 0.7429 - val_recall: 0.9596 - lr: 5.0000e-05\n",
      "Epoch 7/50\n",
      "1942/1942 [==============================] - ETA: 0s - loss: 0.0937 - accuracy: 0.9632 - auc: 0.9941 - precision: 0.9629 - recall: 0.9584\n",
      "Epoch 7: val_auc improved from 0.97017 to 0.97123, saving model to Pretrained Models/VGG16\\vgg16_kidney_stone_model_trained.h5\n",
      "1942/1942 [==============================] - 4489s 2s/step - loss: 0.0937 - accuracy: 0.9632 - auc: 0.9941 - precision: 0.9629 - recall: 0.9584 - val_loss: 0.3215 - val_accuracy: 0.8530 - val_auc: 0.9712 - val_precision: 0.7827 - val_recall: 0.9502 - lr: 5.0000e-05\n",
      "Epoch 8/50\n",
      "1942/1942 [==============================] - ETA: 0s - loss: 0.0896 - accuracy: 0.9657 - auc: 0.9947 - precision: 0.9659 - recall: 0.9607\n",
      "Epoch 8: val_auc did not improve from 0.97123\n",
      "1942/1942 [==============================] - 4500s 2s/step - loss: 0.0896 - accuracy: 0.9657 - auc: 0.9947 - precision: 0.9659 - recall: 0.9607 - val_loss: 0.4913 - val_accuracy: 0.8450 - val_auc: 0.9653 - val_precision: 0.7630 - val_recall: 0.9709 - lr: 5.0000e-05\n",
      "Epoch 9/50\n",
      "1942/1942 [==============================] - ETA: 0s - loss: 0.0851 - accuracy: 0.9672 - auc: 0.9949 - precision: 0.9664 - recall: 0.9634\n",
      "Epoch 9: val_auc did not improve from 0.97123\n",
      "1942/1942 [==============================] - 4502s 2s/step - loss: 0.0851 - accuracy: 0.9672 - auc: 0.9949 - precision: 0.9664 - recall: 0.9634 - val_loss: 0.4783 - val_accuracy: 0.8349 - val_auc: 0.9644 - val_precision: 0.7512 - val_recall: 0.9684 - lr: 5.0000e-05\n",
      "Epoch 10/50\n",
      "1942/1942 [==============================] - ETA: 0s - loss: 0.0785 - accuracy: 0.9690 - auc: 0.9958 - precision: 0.9683 - recall: 0.9655\n",
      "Epoch 10: val_auc did not improve from 0.97123\n",
      "\n",
      "Epoch 10: ReduceLROnPlateau reducing learning rate to 2.499999936844688e-05.\n",
      "1942/1942 [==============================] - 4514s 2s/step - loss: 0.0785 - accuracy: 0.9690 - auc: 0.9958 - precision: 0.9683 - recall: 0.9655 - val_loss: 0.4958 - val_accuracy: 0.8322 - val_auc: 0.9639 - val_precision: 0.7471 - val_recall: 0.9703 - lr: 5.0000e-05\n",
      "Epoch 11/50\n",
      "1942/1942 [==============================] - ETA: 0s - loss: 0.0620 - accuracy: 0.9761 - auc: 0.9974 - precision: 0.9756 - recall: 0.9733\n",
      "Epoch 11: val_auc did not improve from 0.97123\n",
      "1942/1942 [==============================] - 4504s 2s/step - loss: 0.0620 - accuracy: 0.9761 - auc: 0.9974 - precision: 0.9756 - recall: 0.9733 - val_loss: 0.5427 - val_accuracy: 0.8430 - val_auc: 0.9666 - val_precision: 0.7561 - val_recall: 0.9816 - lr: 2.5000e-05\n",
      "Epoch 12/50\n",
      "1942/1942 [==============================] - ETA: 0s - loss: 0.0560 - accuracy: 0.9782 - auc: 0.9977 - precision: 0.9767 - recall: 0.9768\n",
      "Epoch 12: val_auc did not improve from 0.97123\n",
      "1942/1942 [==============================] - 4503s 2s/step - loss: 0.0560 - accuracy: 0.9782 - auc: 0.9977 - precision: 0.9767 - recall: 0.9768 - val_loss: 0.9478 - val_accuracy: 0.7771 - val_auc: 0.9437 - val_precision: 0.6808 - val_recall: 0.9874 - lr: 2.5000e-05\n",
      "Epoch 13/50\n",
      "1942/1942 [==============================] - ETA: 0s - loss: 0.0554 - accuracy: 0.9786 - auc: 0.9979 - precision: 0.9769 - recall: 0.9774\n",
      "Epoch 13: val_auc did not improve from 0.97123\n",
      "\n",
      "Epoch 13: ReduceLROnPlateau reducing learning rate to 1.249999968422344e-05.\n",
      "1942/1942 [==============================] - 4459s 2s/step - loss: 0.0554 - accuracy: 0.9786 - auc: 0.9979 - precision: 0.9769 - recall: 0.9774 - val_loss: 0.5109 - val_accuracy: 0.8323 - val_auc: 0.9649 - val_precision: 0.7456 - val_recall: 0.9747 - lr: 2.5000e-05\n",
      "Epoch 14/50\n",
      "1942/1942 [==============================] - ETA: 0s - loss: 0.0483 - accuracy: 0.9814 - auc: 0.9982 - precision: 0.9794 - recall: 0.9808\n",
      "Epoch 14: val_auc did not improve from 0.97123\n",
      "1942/1942 [==============================] - 4469s 2s/step - loss: 0.0483 - accuracy: 0.9814 - auc: 0.9982 - precision: 0.9794 - recall: 0.9808 - val_loss: 0.5389 - val_accuracy: 0.8329 - val_auc: 0.9596 - val_precision: 0.7480 - val_recall: 0.9703 - lr: 1.2500e-05\n",
      "Epoch 15/50\n",
      "1942/1942 [==============================] - ETA: 0s - loss: 0.0457 - accuracy: 0.9831 - auc: 0.9982 - precision: 0.9820 - recall: 0.9820\n",
      "Epoch 15: val_auc did not improve from 0.97123\n",
      "Restoring model weights from the end of the best epoch: 7.\n",
      "1942/1942 [==============================] - 4455s 2s/step - loss: 0.0457 - accuracy: 0.9831 - auc: 0.9982 - precision: 0.9820 - recall: 0.9820 - val_loss: 0.7325 - val_accuracy: 0.8048 - val_auc: 0.9537 - val_precision: 0.7100 - val_recall: 0.9865 - lr: 1.2500e-05\n",
      "Epoch 15: early stopping\n"
     ]
    }
   ],
   "source": [
    "# Train the model with improved parameters for kidney stone detection\n",
    "history = model.fit(\n",
    "    train_generator,\n",
    "    validation_data=val_generator,\n",
    "    epochs=EPOCHS,\n",
    "    callbacks=[checkpoint_cb, earlystop_cb, reduce_lr_cb, tensorboard_cb],\n",
    "    class_weight=class_weight,  # Use calculated class weights\n",
    "    workers=2,  # Parallel data loading (reduced to avoid potential issues)\n",
    "    use_multiprocessing=False,  # Disabled to avoid potential issues\n",
    "    verbose=1\n",
    ")\n"
   ]
  },
  {
   "cell_type": "code",
   "execution_count": 11,
   "metadata": {},
   "outputs": [
    {
     "data": {
      "image/png": "[encoded data removed]",
      "text/plain": [
       "<Figure size 1200x400 with 3 Axes>"
      ]
     },
     "metadata": {},
     "output_type": "display_data"
    },
    {
     "name": "stdout",
     "output_type": "stream",
     "text": [
      "Training completed. Best model saved at: Pretrained Models/VGG16/vgg16_kidney_stone_model_trained.h5\n",
      "Training plots saved in: Pretrained Models/VGG16/training_plots\n"
     ]
    }
   ],
   "source": [
    "# Plot and save training metrics\n",
    "# Accuracy plot\n",
    "plt.figure(figsize=(12, 4))\n",
    "plt.subplot(1, 3, 1)\n",
    "plt.plot(history.history['accuracy'], label='Train Acc')\n",
    "plt.plot(history.history['val_accuracy'], label='Val Acc')\n",
    "plt.legend()\n",
    "plt.title('Accuracy')\n",
    "plt.xlabel('Epoch')\n",
    "plt.ylabel('Accuracy')\n",
    "\n",
    "# Loss plot\n",
    "plt.subplot(1, 3, 2)\n",
    "plt.plot(history.history['loss'], label='Train Loss')\n",
    "plt.plot(history.history['val_loss'], label='Val Loss')\n",
    "plt.legend()\n",
    "plt.title('Loss')\n",
    "plt.xlabel('Epoch')\n",
    "plt.ylabel('Loss')\n",
    "\n",
    "# AUC plot\n",
    "plt.subplot(1, 3, 3)\n",
    "plt.plot(history.history['auc'], label='Train AUC')\n",
    "plt.plot(history.history['val_auc'], label='Val AUC')\n",
    "plt.legend()\n",
    "plt.title('AUC')\n",
    "plt.xlabel('Epoch')\n",
    "plt.ylabel('AUC')\n",
    "\n",
    "plt.tight_layout()\n",
    "plt.savefig(f\"{PLOTS_DIR}/training_metrics.png\")\n",
    "plt.show()\n",
    "\n",
    "# Save the training history for later analysis\n",
    "import json\n",
    "with open(f\"{PLOTS_DIR}/training_history.json\", 'w') as f:\n",
    "    # Convert numpy values to Python native types for JSON serialization\n",
    "    history_dict = {k: [float(val) for val in v] for k, v in history.history.items()}\n",
    "    json.dump(history_dict, f)\n",
    "\n",
    "print(f\"Training completed. Best model saved at: {SAVE_BEST_MODEL_PATH}\")\n",
    "print(f\"Training plots saved in: {PLOTS_DIR}\")\n"
   ]
  }
 ],
 "metadata": {
  "kernelspec": {
   "display_name": "Python 3 (ipykernel)",
   "language": "python",
   "name": "python3"
  },
  "language_info": {
   "codemirror_mode": {
    "name": "ipython",
    "version": 3
   },
   "file_extension": ".py",
   "mimetype": "text/x-python",
   "name": "python",
   "nbconvert_exporter": "python",
   "pygments_lexer": "ipython3",
   "version": "3.11.5"
  }
 },
 "nbformat": 4,
 "nbformat_minor": 2
}
