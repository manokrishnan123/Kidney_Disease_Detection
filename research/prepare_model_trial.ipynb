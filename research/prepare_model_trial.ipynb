{
 "cells": [
  {
   "cell_type": "code",
   "execution_count": 1,
   "metadata": {},
   "outputs": [],
   "source": [
    "import os"
   ]
  },
  {
   "cell_type": "code",
   "execution_count": 2,
   "metadata": {},
   "outputs": [
    {
     "data": {
      "text/plain": [
       "'c:\\\\Users\\\\manob\\\\Documents\\\\Kidney_Disease_Detection\\\\Kidney_Disease_Detection\\\\research'"
      ]
     },
     "execution_count": 2,
     "metadata": {},
     "output_type": "execute_result"
    }
   ],
   "source": [
    "%pwd"
   ]
  },
  {
   "cell_type": "code",
   "execution_count": 3,
   "metadata": {},
   "outputs": [],
   "source": [
    "os.chdir(\"../\")"
   ]
  },
  {
   "cell_type": "code",
   "execution_count": 4,
   "metadata": {},
   "outputs": [
    {
     "data": {
      "text/plain": [
       "'c:\\\\Users\\\\manob\\\\Documents\\\\Kidney_Disease_Detection\\\\Kidney_Disease_Detection'"
      ]
     },
     "execution_count": 4,
     "metadata": {},
     "output_type": "execute_result"
    }
   ],
   "source": [
    "%pwd\n"
   ]
  },
  {
   "cell_type": "code",
   "execution_count": 5,
   "metadata": {},
   "outputs": [],
   "source": [
    "from dataclasses import dataclass\n",
    "from pathlib import Path\n",
    "\n",
    "\n",
    "@dataclass(frozen=True)\n",
    "class PrepareBaseModelConfig:\n",
    "    root_dir: Path\n",
    "    base_model_path: Path\n",
    "    updated_base_model_path: Path\n",
    "    params_image_size: list\n",
    "    params_learning_rate: float\n",
    "    params_include_top: bool\n",
    "    params_weights: str\n",
    "    params_classes: int"
   ]
  },
  {
   "cell_type": "code",
   "execution_count": 6,
   "metadata": {},
   "outputs": [
    {
     "name": "stderr",
     "output_type": "stream",
     "text": [
      "c:\\Users\\manob\\Documents\\Kidney_Disease_Detection\\Kidney_Disease_Detection\\.conda\\Lib\\site-packages\\numpy\\_distributor_init.py:30: UserWarning: loaded more than 1 DLL from .libs:\n",
      "c:\\Users\\manob\\Documents\\Kidney_Disease_Detection\\Kidney_Disease_Detection\\.conda\\Lib\\site-packages\\numpy\\.libs\\libopenblas.FB5AE2TYXYH2IJRDKGDGQ3XBKLKTF43H.gfortran-win_amd64.dll\n",
      "c:\\Users\\manob\\Documents\\Kidney_Disease_Detection\\Kidney_Disease_Detection\\.conda\\Lib\\site-packages\\numpy\\.libs\\libopenblas64__v0.3.21-gcc_10_3_0.dll\n",
      "  warnings.warn(\"loaded more than 1 DLL from .libs:\"\n"
     ]
    }
   ],
   "source": [
    "from cnnClassifier.constants import *\n",
    "import os\n",
    "from cnnClassifier.utils.common import read_yaml, create_directories,save_json\n",
    "from cnnClassifier.entity.config_entity import (DataIngestionConfig,\n",
    "                                                PrepareBaseModelConfig,\n",
    "                                                TrainingConfig,\n",
    "                                                EvaluationConfig)\n",
    "\n",
    "\n",
    "class ConfigurationManager:\n",
    "    def __init__(\n",
    "        self,\n",
    "        config_filepath = CONFIG_FILE_PATH,\n",
    "        params_filepath = PARAMS_FILE_PATH):\n",
    "\n",
    "        self.config = read_yaml(config_filepath)\n",
    "        self.params = read_yaml(params_filepath)\n",
    "\n",
    "        create_directories([self.config.artifacts_root])\n",
    "    \n",
    "    def get_prepare_base_model_config(self) -> PrepareBaseModelConfig:\n",
    "        if \"prepare_model\" not in self.config:\n",
    "            raise KeyError(\"Key 'prepare_model' is missing from config.yaml!\")\n",
    "        config = self.config.prepare_model\n",
    "        \n",
    "        create_directories([config.root_dir])\n",
    "\n",
    "        prepare_base_model_config = PrepareBaseModelConfig(\n",
    "        root_dir=Path(config.root_dir),\n",
    "        base_model_path=Path(config.base_model_path),\n",
    "        updated_base_model_path=Path(config.updated_base_model_path),\n",
    "        params_image_size=[256, 256, 3],  # Updated for custom CNN\n",
    "        params_learning_rate=self.params.LEARNING_RATE,\n",
    "        params_include_top=False,  # Not needed for custom CNN\n",
    "        params_weights=None,  # No pre-trained weights for custom CNN\n",
    "        params_classes=self.params.CLASSES\n",
    "    )\n",
    "\n",
    "        return prepare_base_model_config"
   ]
  },
  {
   "cell_type": "code",
   "execution_count": 8,
   "metadata": {},
   "outputs": [],
   "source": [
    "import tensorflow as tf\n",
    "from tensorflow.keras.models import Sequential\n",
    "from tensorflow.keras.layers import Conv2D, MaxPooling2D, Dense, Flatten, Dropout\n",
    "from tensorflow.keras.layers import BatchNormalization, Activation\n",
    "from pathlib import Path\n",
    "from cnnClassifier.entity.config_entity import PrepareBaseModelConfig\n",
    "from cnnClassifier.logger import logger  # Import your custom logger\n",
    "\n",
    "class PrepareBaseModel:\n",
    "    def __init__(self, config: PrepareBaseModelConfig):\n",
    "        self.config = config\n",
    "\n",
    "    def get_base_model(self):\n",
    "        \"\"\"Defines and saves the improved custom CNN model.\"\"\"\n",
    "        model = Sequential([\n",
    "            Conv2D(32, (3,3), activation='relu', input_shape=(256,256,3)),\n",
    "            BatchNormalization(),  \n",
    "            MaxPooling2D(),\n",
    "\n",
    "            Conv2D(64, (3,3), activation='relu'),\n",
    "            BatchNormalization(),\n",
    "            MaxPooling2D(),\n",
    "\n",
    "            Conv2D(128, (3,3), activation='relu'),\n",
    "            BatchNormalization(),\n",
    "            MaxPooling2D(),\n",
    "\n",
    "            Flatten(),\n",
    "            Dense(256, activation='relu', kernel_initializer=\"he_normal\"),\n",
    "            Dropout(0.5),  \n",
    "            Dense(1, activation='sigmoid')  # Binary classification\n",
    "        ])\n",
    "        \n",
    "        model.compile(\n",
    "            optimizer=tf.keras.optimizers.Adam(learning_rate=self.config.params_learning_rate),\n",
    "            loss='binary_crossentropy',\n",
    "            metrics=['accuracy']\n",
    "        )\n",
    "\n",
    "        # ✅ Save the model using the newly added method\n",
    "        self.save_model(path=self.config.base_model_path, model=model)\n",
    "\n",
    "    def save_model(self, path: Path, model: tf.keras.Model):\n",
    "        \"\"\"Save the trained model to a given path.\"\"\"\n",
    "        model.save(path)\n",
    "        logger.info(f\"Model saved successfully at: {path}\")\n",
    "\n",
    "            \n",
    "            \n"
   ]
  },
  {
   "cell_type": "code",
   "execution_count": null,
   "metadata": {},
   "outputs": [],
   "source": [
    "try:\n",
    "    config = ConfigurationManager()\n",
    "    prepare_base_model_config = config.get_prepare_base_model_config()\n",
    "    prepare_base_model = PrepareBaseModel(config=prepare_base_model_config)\n",
    "        \n",
    "\n",
    "    # Create and save the custom CNN model\n",
    "    prepare_base_model.get_base_model()\n",
    "    logger.info(\"Custom CNN model created successfully.\")\n",
    "except Exception as e:\n",
    "    raise e"
   ]
  }
 ],
 "metadata": {
  "kernelspec": {
   "display_name": "Python 3",
   "language": "python",
   "name": "python3"
  },
  "language_info": {
   "codemirror_mode": {
    "name": "ipython",
    "version": 3
   },
   "file_extension": ".py",
   "mimetype": "text/x-python",
   "name": "python",
   "nbconvert_exporter": "python",
   "pygments_lexer": "ipython3",
   "version": "3.11.11"
  }
 },
 "nbformat": 4,
 "nbformat_minor": 2
}
