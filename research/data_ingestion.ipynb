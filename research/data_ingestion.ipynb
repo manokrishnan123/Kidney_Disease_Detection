{
 "cells": [
  {
   "cell_type": "code",
   "execution_count": 1,
   "metadata": {},
   "outputs": [],
   "source": [
    "import os"
   ]
  },
  {
   "cell_type": "code",
   "execution_count": 2,
   "metadata": {},
   "outputs": [
    {
     "data": {
      "text/plain": [
       "'c:\\\\Users\\\\manob\\\\Documents\\\\Kidney_Disease_Detection\\\\Kidney_Disease_Detection'"
      ]
     },
     "execution_count": 2,
     "metadata": {},
     "output_type": "execute_result"
    }
   ],
   "source": [
    "os.chdir(\"../\")\n",
    "%pwd"
   ]
  },
  {
   "cell_type": "code",
   "execution_count": 3,
   "metadata": {},
   "outputs": [],
   "source": [
    "from dataclasses import dataclass\n",
    "from pathlib import Path\n",
    "\n",
    "\n",
    "@dataclass(frozen=True)\n",
    "class DataIngestionConfig:\n",
    "    root_dir: Path\n",
    "    source_URL: str\n",
    "    local_data_file: Path\n",
    "    unzip_dir: Path"
   ]
  },
  {
   "cell_type": "code",
   "execution_count": 4,
   "metadata": {},
   "outputs": [
    {
     "name": "stderr",
     "output_type": "stream",
     "text": [
      "c:\\Users\\manob\\Documents\\Kidney_Disease_Detection\\Kidney_Disease_Detection\\.conda\\Lib\\site-packages\\numpy\\_distributor_init.py:30: UserWarning: loaded more than 1 DLL from .libs:\n",
      "c:\\Users\\manob\\Documents\\Kidney_Disease_Detection\\Kidney_Disease_Detection\\.conda\\Lib\\site-packages\\numpy\\.libs\\libopenblas.FB5AE2TYXYH2IJRDKGDGQ3XBKLKTF43H.gfortran-win_amd64.dll\n",
      "c:\\Users\\manob\\Documents\\Kidney_Disease_Detection\\Kidney_Disease_Detection\\.conda\\Lib\\site-packages\\numpy\\.libs\\libopenblas64__v0.3.21-gcc_10_3_0.dll\n",
      "  warnings.warn(\"loaded more than 1 DLL from .libs:\"\n"
     ]
    }
   ],
   "source": [
    "from cnnClassifier.constants import *\n",
    "from cnnClassifier.utils.common import read_yaml, create_directories"
   ]
  },
  {
   "cell_type": "code",
   "execution_count": 5,
   "metadata": {},
   "outputs": [],
   "source": [
    "from cnnClassifier.utils.common import read_yaml, create_directories,save_json\n",
    "from cnnClassifier.entity.config_entity import DataIngestionConfig\n",
    "\n",
    "\n",
    "class ConfigurationManager:\n",
    "    def __init__(\n",
    "        self,\n",
    "        config_filepath = CONFIG_FILE_PATH,\n",
    "        params_filepath = PARAMS_FILE_PATH):\n",
    "\n",
    "        self.config = read_yaml(config_filepath)\n",
    "        self.params = read_yaml(params_filepath)\n",
    "\n",
    "        create_directories([self.config.artifacts_root])\n",
    "\n",
    "\n",
    "    \n",
    "    def get_data_ingestion_config(self) -> DataIngestionConfig:\n",
    "        config = self.config.data_ingestion\n",
    "\n",
    "        create_directories([config.root_dir])\n",
    "\n",
    "        data_ingestion_config = DataIngestionConfig(\n",
    "            root_dir=config.root_dir,\n",
    "            source_URL=config.source_URL,\n",
    "            local_data_file=config.local_data_file,\n",
    "            unzip_dir=config.unzip_dir \n",
    "        )\n",
    "\n",
    "        return data_ingestion_config"
   ]
  },
  {
   "cell_type": "code",
   "execution_count": 9,
   "metadata": {},
   "outputs": [],
   "source": [
    "import zipfile\n",
    "import gdown\n",
    "from cnnClassifier.logger import logger\n",
    "from cnnClassifier.utils.common import get_size\n",
    "from cnnClassifier.entity.config_entity import (DataIngestionConfig)\n",
    "import shutil\n",
    "\n",
    "\n",
    "\n",
    "class DataIngestion:\n",
    "    def __init__(self, config: DataIngestionConfig):\n",
    "        self.config = config\n",
    "\n",
    "    \n",
    "    def download_file(self)-> str:\n",
    "        '''\n",
    "        Fetch data from the url\n",
    "        '''\n",
    "\n",
    "        try: \n",
    "            dataset_url = self.config.source_URL\n",
    "            zip_download_dir = self.config.local_data_file\n",
    "            os.makedirs(\"artifacts/data_ingestion\", exist_ok=True)\n",
    "            logger.info(f\"Downloading data from {dataset_url} into file {zip_download_dir}\")\n",
    "\n",
    "            file_id = dataset_url.split(\"/\")[-2]\n",
    "            prefix = 'https://drive.google.com/uc?/export=download&id='\n",
    "            gdown.download(prefix+file_id,zip_download_dir)\n",
    "\n",
    "            logger.info(f\"Downloaded data from {dataset_url} into file {zip_download_dir}\")\n",
    "\n",
    "        except Exception as e:\n",
    "            raise e\n",
    "        \n",
    "    \n",
    "\n",
    "    def extract_zip_file(self):\n",
    "        \"\"\"\n",
    "        zip_file_path: str\n",
    "        Extracts the zip file into the data directory\n",
    "        Function returns None\n",
    "        \"\"\"\n",
    "        unzip_path = self.config.unzip_dir\n",
    "        os.makedirs(unzip_path, exist_ok=True)\n",
    "        with zipfile.ZipFile(self.config.local_data_file, 'r') as zip_ref:\n",
    "            zip_ref.extractall(unzip_path)\n",
    "\n",
    "\n",
    "\n",
    "    def merge_original_and_augmented_datasets(self):\n",
    "        \"\"\"\n",
    "        Merge 'Original Dataset' and 'Augmented Dataset' into a single 'Combined_Training_Data' folder.\n",
    "        \"\"\"\n",
    "\n",
    "        dataset_root = os.path.join(self.config.unzip_dir, \"Kidney Stone Dataset\")\n",
    "        dataset_paths = [\n",
    "            os.path.join(dataset_root, \"Original Dataset\"),\n",
    "            os.path.join(dataset_root, \"Augmented Dataset\")\n",
    "        ]\n",
    "\n",
    "\n",
    "        combined_training_dir = os.path.join(\"artifacts\", \"data_ingestion\", \"Combined_Training_Data\")\n",
    "\n",
    "        if not os.path.exists(combined_training_dir):\n",
    "            os.makedirs(combined_training_dir, exist_ok=True)\n",
    "            os.makedirs(os.path.join(combined_training_dir, \"Stone\"), exist_ok=True)\n",
    "            os.makedirs(os.path.join(combined_training_dir, \"Non-Stone\"), exist_ok=True)\n",
    "\n",
    "        for dataset_path in dataset_paths:\n",
    "            for class_name in [\"Stone\", \"Non-Stone\"]:\n",
    "                src_folder = os.path.join(dataset_path, class_name)\n",
    "                dest_folder = os.path.join(combined_training_dir, class_name)\n",
    "\n",
    "                if os.path.exists(src_folder):\n",
    "                    for file in os.listdir(src_folder):\n",
    "                        src_file_path = os.path.join(src_folder, file)\n",
    "                        dest_file_path = os.path.join(dest_folder, file)\n",
    "\n",
    "                        if os.path.exists(dest_file_path):\n",
    "                            filename, ext = os.path.splitext(file)\n",
    "                            dest_file_path = os.path.join(dest_folder, f\"{filename}_copy{ext}\")\n",
    "\n",
    "                        shutil.copy(src_file_path, dest_file_path)\n"
   ]
  },
  {
   "cell_type": "code",
   "execution_count": 11,
   "metadata": {},
   "outputs": [
    {
     "name": "stdout",
     "output_type": "stream",
     "text": [
      "[2025-04-05 12:47:47,545: INFO: common: yaml file: config\\config.yaml loaded successfully]\n",
      "[2025-04-05 12:47:47,550: INFO: common: yaml file: params.yaml loaded successfully]\n",
      "[2025-04-05 12:47:47,550: INFO: common: created directory at: artifacts]\n",
      "[2025-04-05 12:47:47,550: INFO: common: created directory at: artifacts/data_ingestion]\n",
      "[2025-04-05 12:47:47,550: INFO: 3064947772: Downloading data from https://drive.google.com/file/d/1QErXWSFqsbLv9DknfwlkPsCXedJuHpYX/view?usp=sharing into file artifacts/data_ingestion/Kidney_stone_dataset.zip]\n"
     ]
    },
    {
     "name": "stderr",
     "output_type": "stream",
     "text": [
      "Downloading...\n",
      "From (original): https://drive.google.com/uc?/export=download&id=1QErXWSFqsbLv9DknfwlkPsCXedJuHpYX\n",
      "From (redirected): https://drive.google.com/uc?%2Fexport=download&id=1QErXWSFqsbLv9DknfwlkPsCXedJuHpYX&confirm=t&uuid=cfbeecac-5423-4863-97c4-1055a9dd940d\n",
      "To: c:\\Users\\manob\\Documents\\Kidney_Disease_Detection\\Kidney_Disease_Detection\\artifacts\\data_ingestion\\Kidney_stone_dataset.zip\n",
      "100%|██████████| 4.05G/4.05G [02:04<00:00, 32.6MB/s] "
     ]
    },
    {
     "name": "stdout",
     "output_type": "stream",
     "text": [
      "[2025-04-05 12:49:55,553: INFO: 3064947772: Downloaded data from https://drive.google.com/file/d/1QErXWSFqsbLv9DknfwlkPsCXedJuHpYX/view?usp=sharing into file artifacts/data_ingestion/Kidney_stone_dataset.zip]\n"
     ]
    },
    {
     "name": "stderr",
     "output_type": "stream",
     "text": [
      "\n"
     ]
    }
   ],
   "source": [
    "try:\n",
    "    config = ConfigurationManager()\n",
    "    data_ingestion_config = config.get_data_ingestion_config()\n",
    "    data_ingestion = DataIngestion(config=data_ingestion_config)\n",
    "    data_ingestion.download_file()\n",
    "    data_ingestion.extract_zip_file()\n",
    "    data_ingestion.merge_original_and_augmented_datasets()\n",
    "except Exception as e:\n",
    "    raise e    "
   ]
  }
 ],
 "metadata": {
  "kernelspec": {
   "display_name": "Python 3 (ipykernel)",
   "language": "python",
   "name": "python3"
  },
  "language_info": {
   "codemirror_mode": {
    "name": "ipython",
    "version": 3
   },
   "file_extension": ".py",
   "mimetype": "text/x-python",
   "name": "python",
   "nbconvert_exporter": "python",
   "pygments_lexer": "ipython3",
   "version": "3.11.5"
  }
 },
 "nbformat": 4,
 "nbformat_minor": 2
}
